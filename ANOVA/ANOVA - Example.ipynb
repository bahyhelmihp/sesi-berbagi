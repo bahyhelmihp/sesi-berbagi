{
 "cells": [
  {
   "cell_type": "code",
   "execution_count": 66,
   "metadata": {},
   "outputs": [],
   "source": [
    "import pandas as pd\n",
    "import numpy as np\n",
    "import matplotlib.pyplot as plt\n",
    "from scipy.stats import f_oneway"
   ]
  },
  {
   "cell_type": "markdown",
   "metadata": {},
   "source": [
    "## ANOVA - Independent Measures Design\n",
    "- Created by: **Bahy Helmi Hartoyo Putra**\n",
    "- Source: **Essentials of Statistics for the Behavioral Sciences Eighth Edition by Frederick J. Gravetter and Larry B. Wallnau**"
   ]
  },
  {
   "cell_type": "markdown",
   "metadata": {},
   "source": [
    "### Objective(s)\n",
    "- Evaluate mean differences of **GO-JEK Drivers Driving Performance** between two or more different treatments.\n",
    "- Define which mean differences are significant, and which are not."
   ]
  },
  {
   "cell_type": "markdown",
   "metadata": {},
   "source": [
    "### Term(s)\n",
    "- **SS**: Sum of Squares\n",
    "- **df**: Degree of Freedom"
   ]
  },
  {
   "cell_type": "markdown",
   "metadata": {},
   "source": [
    "### Load Dataset"
   ]
  },
  {
   "cell_type": "code",
   "execution_count": 31,
   "metadata": {},
   "outputs": [],
   "source": [
    "dataset = pd.DataFrame({\"no-phone\": [4,3,6,3,4], \"hand-held\": [0,1,3,1,0], \"hands-free\": [1,2,2,0,0]})"
   ]
  },
  {
   "cell_type": "markdown",
   "metadata": {},
   "source": [
    "#### Dataset of GO-JEK Driver Driving Performance"
   ]
  },
  {
   "cell_type": "code",
   "execution_count": 32,
   "metadata": {},
   "outputs": [
    {
     "data": {
      "text/html": [
       "<div>\n",
       "<style scoped>\n",
       "    .dataframe tbody tr th:only-of-type {\n",
       "        vertical-align: middle;\n",
       "    }\n",
       "\n",
       "    .dataframe tbody tr th {\n",
       "        vertical-align: top;\n",
       "    }\n",
       "\n",
       "    .dataframe thead th {\n",
       "        text-align: right;\n",
       "    }\n",
       "</style>\n",
       "<table border=\"1\" class=\"dataframe\">\n",
       "  <thead>\n",
       "    <tr style=\"text-align: right;\">\n",
       "      <th></th>\n",
       "      <th>no-phone</th>\n",
       "      <th>hand-held</th>\n",
       "      <th>hands-free</th>\n",
       "    </tr>\n",
       "  </thead>\n",
       "  <tbody>\n",
       "    <tr>\n",
       "      <th>0</th>\n",
       "      <td>4</td>\n",
       "      <td>0</td>\n",
       "      <td>1</td>\n",
       "    </tr>\n",
       "    <tr>\n",
       "      <th>1</th>\n",
       "      <td>3</td>\n",
       "      <td>1</td>\n",
       "      <td>2</td>\n",
       "    </tr>\n",
       "    <tr>\n",
       "      <th>2</th>\n",
       "      <td>6</td>\n",
       "      <td>3</td>\n",
       "      <td>2</td>\n",
       "    </tr>\n",
       "    <tr>\n",
       "      <th>3</th>\n",
       "      <td>3</td>\n",
       "      <td>1</td>\n",
       "      <td>0</td>\n",
       "    </tr>\n",
       "    <tr>\n",
       "      <th>4</th>\n",
       "      <td>4</td>\n",
       "      <td>0</td>\n",
       "      <td>0</td>\n",
       "    </tr>\n",
       "  </tbody>\n",
       "</table>\n",
       "</div>"
      ],
      "text/plain": [
       "   no-phone  hand-held  hands-free\n",
       "0         4          0           1\n",
       "1         3          1           2\n",
       "2         6          3           2\n",
       "3         3          1           0\n",
       "4         4          0           0"
      ]
     },
     "execution_count": 32,
     "metadata": {},
     "output_type": "execute_result"
    }
   ],
   "source": [
    "dataset"
   ]
  },
  {
   "cell_type": "markdown",
   "metadata": {},
   "source": [
    "## Manual Way"
   ]
  },
  {
   "cell_type": "markdown",
   "metadata": {},
   "source": [
    "### Calculate Variability"
   ]
  },
  {
   "cell_type": "markdown",
   "metadata": {},
   "source": [
    "#### Total Variance"
   ]
  },
  {
   "cell_type": "markdown",
   "metadata": {},
   "source": [
    "Calculate SS total of all treatments"
   ]
  },
  {
   "cell_type": "code",
   "execution_count": 38,
   "metadata": {},
   "outputs": [
    {
     "name": "stdout",
     "output_type": "stream",
     "text": [
      "Computational SS-total: 46.0\n"
     ]
    }
   ],
   "source": [
    "## Using computational formula (SStotal = ΣX² - G²/N)\n",
    "total_ss_comp = 0\n",
    "total_x_square = 0\n",
    "grand_total_square = np.square(dataset.values.sum())\n",
    "total_n = dataset.shape[0] * dataset.shape[1]\n",
    "\n",
    "for num in dataset.values.flatten():\n",
    "    total_x_square += np.square(num)\n",
    "total_ss_comp = total_x_square - (grand_total_square/total_n)\n",
    "\n",
    "print(\"Computational SS-total: \" + str(total_ss_comp))"
   ]
  },
  {
   "cell_type": "code",
   "execution_count": 39,
   "metadata": {},
   "outputs": [
    {
     "name": "stdout",
     "output_type": "stream",
     "text": [
      "Definitional SS-total: 46.0\n"
     ]
    }
   ],
   "source": [
    "## Using definitional formula (Subtract each number from the mean, square it, sum up the results)\n",
    "total_ss_def = 0\n",
    "mean = dataset.values.sum()/total_n\n",
    "\n",
    "for num in dataset.values.flatten():\n",
    "    total_ss_def += np.square(num - mean)\n",
    "    \n",
    "print(\"Definitional SS-total: \" + str(total_ss_def))"
   ]
  },
  {
   "cell_type": "markdown",
   "metadata": {},
   "source": [
    "Calculate df total of all treatments"
   ]
  },
  {
   "cell_type": "code",
   "execution_count": 41,
   "metadata": {},
   "outputs": [
    {
     "name": "stdout",
     "output_type": "stream",
     "text": [
      "df-total: 14\n"
     ]
    }
   ],
   "source": [
    "## Total number of values (N) - 1\n",
    "df_total = total_n - 1\n",
    "print(\"df-total: \" + str(df_total))"
   ]
  },
  {
   "cell_type": "markdown",
   "metadata": {},
   "source": [
    "#### Within-Treatments Variance"
   ]
  },
  {
   "cell_type": "markdown",
   "metadata": {},
   "source": [
    "Calculate SS-within each treatment"
   ]
  },
  {
   "cell_type": "code",
   "execution_count": 42,
   "metadata": {},
   "outputs": [
    {
     "name": "stdout",
     "output_type": "stream",
     "text": [
      "SS-within: 16.0\n"
     ]
    }
   ],
   "source": [
    "def calculate_ss_within(array):\n",
    "    mean = array.sum()/len(array)\n",
    "    res = 0\n",
    "    for num in array:\n",
    "        res += np.square(num - mean)\n",
    "    return res\n",
    "    \n",
    "## Treatment 1 (No-Phone)\n",
    "no_phone_ss_within = calculate_ss_within(dataset['no-phone'])\n",
    "\n",
    "## Treatment 2 (Hand-Held)\n",
    "hand_held_ss_within = calculate_ss_within(dataset['hand-held'])\n",
    "\n",
    "## Treatment 3 (Hands-Free)\n",
    "hands_free_ss_within = calculate_ss_within(dataset['hands-free'])\n",
    "\n",
    "ss_within = no_phone_ss_within + hand_held_ss_within + hands_free_ss_within\n",
    "print(\"SS-within: \" + str(ss_within))"
   ]
  },
  {
   "cell_type": "markdown",
   "metadata": {},
   "source": [
    "Calculate df-within"
   ]
  },
  {
   "cell_type": "code",
   "execution_count": 44,
   "metadata": {},
   "outputs": [],
   "source": [
    "## Subtract number of treatments (k) from total number of values (N)\n",
    "k = len(dataset.columns)\n",
    "df_within = total_n - k"
   ]
  },
  {
   "cell_type": "markdown",
   "metadata": {},
   "source": [
    "#### Between-Treatments Variance"
   ]
  },
  {
   "cell_type": "markdown",
   "metadata": {},
   "source": [
    "Calculate SS-between each treatment"
   ]
  },
  {
   "cell_type": "code",
   "execution_count": 48,
   "metadata": {},
   "outputs": [
    {
     "name": "stdout",
     "output_type": "stream",
     "text": [
      "SS-between: 30.0\n"
     ]
    }
   ],
   "source": [
    "## SS-between = SS-total - SS-within\n",
    "ss_between = total_ss_comp - ss_within\n",
    "print(\"SS-between: \" + str(ss_between))"
   ]
  },
  {
   "cell_type": "markdown",
   "metadata": {},
   "source": [
    "Calculate df treatment"
   ]
  },
  {
   "cell_type": "code",
   "execution_count": 50,
   "metadata": {},
   "outputs": [
    {
     "name": "stdout",
     "output_type": "stream",
     "text": [
      "df-between: 2\n"
     ]
    }
   ],
   "source": [
    "## Subtract the number of treatments (k) with 1\n",
    "df_between = k-1\n",
    "print(\"df-between: \" + str(df_between))"
   ]
  },
  {
   "cell_type": "markdown",
   "metadata": {},
   "source": [
    "### ANOVA Summary Table"
   ]
  },
  {
   "cell_type": "markdown",
   "metadata": {},
   "source": [
    "#### Do calculation using F-ratio formula"
   ]
  },
  {
   "cell_type": "code",
   "execution_count": 53,
   "metadata": {},
   "outputs": [
    {
     "name": "stdout",
     "output_type": "stream",
     "text": [
      "MS-between (variance between): 15.0\n",
      "MS-within (variance within): 1.3333333333333333\n",
      "F-value: 11.25\n"
     ]
    }
   ],
   "source": [
    "## Variance between treatments\n",
    "ms_between = ss_between/df_between\n",
    "print(\"MS-between (variance between): \" + str(ms_between))\n",
    "\n",
    "## Variance within treatments\n",
    "ms_within = ss_within/df_within\n",
    "print(\"MS-within (variance within): \" + str(ms_within))\n",
    "\n",
    "## F-value\n",
    "f_value = ms_between/ms_within\n",
    "print(\"F-value: \" + str(f_value))"
   ]
  },
  {
   "cell_type": "code",
   "execution_count": 60,
   "metadata": {},
   "outputs": [],
   "source": [
    "summary_table = pd.DataFrame({\"SS\": [ss_between, ss_within, total_ss], \"df\": [df_between, df_within, df_total],\\\n",
    "                             \"MS\": [ms_between, ms_within, \"-\"], \"F\": [f_value, \"-\", \"-\"]}, \\\n",
    "                             index=['Between treatments', 'Within treatments', 'Total'])"
   ]
  },
  {
   "cell_type": "code",
   "execution_count": 61,
   "metadata": {},
   "outputs": [
    {
     "data": {
      "text/html": [
       "<div>\n",
       "<style scoped>\n",
       "    .dataframe tbody tr th:only-of-type {\n",
       "        vertical-align: middle;\n",
       "    }\n",
       "\n",
       "    .dataframe tbody tr th {\n",
       "        vertical-align: top;\n",
       "    }\n",
       "\n",
       "    .dataframe thead th {\n",
       "        text-align: right;\n",
       "    }\n",
       "</style>\n",
       "<table border=\"1\" class=\"dataframe\">\n",
       "  <thead>\n",
       "    <tr style=\"text-align: right;\">\n",
       "      <th></th>\n",
       "      <th>SS</th>\n",
       "      <th>df</th>\n",
       "      <th>MS</th>\n",
       "      <th>F</th>\n",
       "    </tr>\n",
       "  </thead>\n",
       "  <tbody>\n",
       "    <tr>\n",
       "      <th>Between treatments</th>\n",
       "      <td>30.0</td>\n",
       "      <td>2</td>\n",
       "      <td>15</td>\n",
       "      <td>11.25</td>\n",
       "    </tr>\n",
       "    <tr>\n",
       "      <th>Within treatments</th>\n",
       "      <td>16.0</td>\n",
       "      <td>12</td>\n",
       "      <td>1.33333</td>\n",
       "      <td>-</td>\n",
       "    </tr>\n",
       "    <tr>\n",
       "      <th>Total</th>\n",
       "      <td>46.0</td>\n",
       "      <td>14</td>\n",
       "      <td>-</td>\n",
       "      <td>-</td>\n",
       "    </tr>\n",
       "  </tbody>\n",
       "</table>\n",
       "</div>"
      ],
      "text/plain": [
       "                      SS  df       MS      F\n",
       "Between treatments  30.0   2       15  11.25\n",
       "Within treatments   16.0  12  1.33333      -\n",
       "Total               46.0  14        -      -"
      ]
     },
     "execution_count": 61,
     "metadata": {},
     "output_type": "execute_result"
    }
   ],
   "source": [
    "summary_table"
   ]
  },
  {
   "cell_type": "markdown",
   "metadata": {},
   "source": [
    "## Using SciPy"
   ]
  },
  {
   "cell_type": "code",
   "execution_count": 83,
   "metadata": {},
   "outputs": [
    {
     "name": "stdout",
     "output_type": "stream",
     "text": [
      "F-value: 11.25\n",
      "p-value: 0.0017708138328537343\n"
     ]
    }
   ],
   "source": [
    "f, p_value = f_oneway(dataset['no-phone'], dataset['hand-held'], dataset['hands-free'])\n",
    "print(\"F-value: \" + str(f))\n",
    "print(\"p-value: \" + str(p_value))"
   ]
  },
  {
   "cell_type": "markdown",
   "metadata": {},
   "source": [
    "## Significance (Plot)"
   ]
  },
  {
   "cell_type": "code",
   "execution_count": 125,
   "metadata": {},
   "outputs": [
    {
     "data": {
      "image/png": "[encoded data removed]",
      "text/plain": [
       "<Figure size 1440x576 with 1 Axes>"
      ]
     },
     "metadata": {
      "needs_background": "light"
     },
     "output_type": "display_data"
    }
   ],
   "source": [
    "from scipy.stats import f\n",
    "\n",
    "# Freeze for dfn=4, dfd=12, loc=0, scale=1 and get the first four moments from stats()\n",
    "rv = f(dfn=4, dfd=12, loc=0, scale=1)\n",
    "mean, var, skew, kurt = rv.stats(moments='mvsk')\n",
    "mean, var, skew, kurt\n",
    "\n",
    "\n",
    "import numpy as np\n",
    "from scipy.stats import f, norm\n",
    "import matplotlib.pyplot as plt\n",
    "%matplotlib inline\n",
    "plt.figure(figsize=(20,8))\n",
    "\n",
    "plt.xlim(0,15)\n",
    "rv2 = f(dfn=2, dfd=12, loc=0, scale=1)\n",
    "x = np.linspace(rv2.ppf(0.0001), rv2.ppf(0.9999), 100)\n",
    "y = rv2.pdf(x) \n",
    "\n",
    "plt.axvline(6.93, color='red', label='alpha 0.01')\n",
    "plt.axvline(3.88, color='green', label='alpha 0.05')\n",
    "plt.axvline(11.25, color='black', label='F-value')\n",
    "\n",
    "plt.text(7.1, 0.5, \"0.01 rejection region \\n --->\", fontsize=14)\n",
    "plt.text(4.0, 0.5, \"0.05 rejection region \\n --->\", fontsize=14)\n",
    "plt.text(11.4, 0.5, \"Calculated F-value: 11.25\", fontsize=14)\n",
    "\n",
    "plt.plot(x,y)\n",
    "plt.title(\"F-distribution of given df = (2,12)\")\n",
    "plt.legend()\n",
    "plt.show()"
   ]
  },
  {
   "cell_type": "markdown",
   "metadata": {},
   "source": [
    "- The F value we obtained, F = 11.25, is in the critical region. \n",
    "- It is very unlikely (p < .05) that we would obtain a value this large if H0 is true. \n",
    "- Therefore, we reject H0 and conclude that there is a significant treatment effect."
   ]
  },
  {
   "cell_type": "markdown",
   "metadata": {},
   "source": [
    "## Effect Size (eta-squared)"
   ]
  },
  {
   "cell_type": "code",
   "execution_count": 128,
   "metadata": {},
   "outputs": [
    {
     "name": "stdout",
     "output_type": "stream",
     "text": [
      "Effect size: 0.6521739130434783\n"
     ]
    }
   ],
   "source": [
    "effect_size = ss_between/total_ss_comp\n",
    "print(\"Effect size: \" + str(effect_size))"
   ]
  },
  {
   "cell_type": "markdown",
   "metadata": {},
   "source": [
    "## Post Hoc (Tukey's HSD Test)"
   ]
  },
  {
   "cell_type": "code",
   "execution_count": 130,
   "metadata": {},
   "outputs": [],
   "source": [
    "## q comes from Studentized Range Statistic (q) table\n",
    "q = 3.53"
   ]
  },
  {
   "cell_type": "code",
   "execution_count": 138,
   "metadata": {},
   "outputs": [
    {
     "name": "stdout",
     "output_type": "stream",
     "text": [
      "HSD: 1.8228841616149571\n"
     ]
    }
   ],
   "source": [
    "hsd = q * np.sqrt(ms_within / (total_n / k))\n",
    "print(\"HSD: \" + str(hsd))"
   ]
  },
  {
   "cell_type": "markdown",
   "metadata": {},
   "source": [
    "The mean difference between any two samples must be at least **1.823** to be significant"
   ]
  },
  {
   "cell_type": "code",
   "execution_count": 142,
   "metadata": {},
   "outputs": [],
   "source": [
    "mean_no_phone = dataset['no-phone'].mean()\n",
    "mean_hand_held = dataset['hand-held'].mean()\n",
    "mean_hands_free = dataset['hands-free'].mean()"
   ]
  },
  {
   "cell_type": "code",
   "execution_count": 143,
   "metadata": {},
   "outputs": [
    {
     "data": {
      "text/plain": [
       "3.0"
      ]
     },
     "execution_count": 143,
     "metadata": {},
     "output_type": "execute_result"
    }
   ],
   "source": [
    "mean_no_phone - mean_hand_held"
   ]
  },
  {
   "cell_type": "code",
   "execution_count": 144,
   "metadata": {},
   "outputs": [
    {
     "data": {
      "text/plain": [
       "3.0"
      ]
     },
     "execution_count": 144,
     "metadata": {},
     "output_type": "execute_result"
    }
   ],
   "source": [
    "mean_no_phone - mean_hands_free"
   ]
  },
  {
   "cell_type": "code",
   "execution_count": 145,
   "metadata": {},
   "outputs": [
    {
     "data": {
      "text/plain": [
       "0.0"
      ]
     },
     "execution_count": 145,
     "metadata": {},
     "output_type": "execute_result"
    }
   ],
   "source": [
    "mean_hand_held - mean_hands_free"
   ]
  },
  {
   "cell_type": "markdown",
   "metadata": {},
   "source": [
    "- Treatment no_phone **is** significantly different from treatment hand_held\n",
    "- Treatment no_phone **is** significantly different from treatment hands_free\n",
    "- Treatment hand_held **is not** significantly different from treatment hands_free"
   ]
  }
 ],
 "metadata": {
  "kernelspec": {
   "display_name": "Python 3",
   "language": "python",
   "name": "python3"
  },
  "language_info": {
   "codemirror_mode": {
    "name": "ipython",
    "version": 3
   },
   "file_extension": ".py",
   "mimetype": "text/x-python",
   "name": "python",
   "nbconvert_exporter": "python",
   "pygments_lexer": "ipython3",
   "version": "3.7.3"
  }
 },
 "nbformat": 4,
 "nbformat_minor": 2
}
