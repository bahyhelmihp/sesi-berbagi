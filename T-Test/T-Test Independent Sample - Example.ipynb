{
 "cells": [
  {
   "cell_type": "code",
   "execution_count": 1,
   "metadata": {},
   "outputs": [],
   "source": [
    "import pandas as pd\n",
    "import numpy as np\n",
    "import matplotlib.pyplot as plt\n",
    "\n",
    "from scipy.stats import ttest_ind, t"
   ]
  },
  {
   "cell_type": "markdown",
   "metadata": {},
   "source": [
    "## T-Test - Two Independent Samples\n",
    "- Created by: **Bahy Helmi Hartoyo Putra**\n",
    "- Source: **Statistics for the Behavioral Sciences Ninth (9th) Edition by Frederick J. Gravetter and Larry B. Wallnau**"
   ]
  },
  {
   "cell_type": "markdown",
   "metadata": {},
   "source": [
    "### Objective(s)\n",
    "- Evaluate mean differences of **Mid Term Score** between two different **learning style** in a school.\n",
    "- The two different treatments (learning styles) done are:\n",
    "    - **Experiment-Based Learning**\n",
    "    - **Reading-Based Learning**\n",
    "- Define wether mean difference is **significant**."
   ]
  },
  {
   "cell_type": "markdown",
   "metadata": {},
   "source": [
    "### Load Dataset"
   ]
  },
  {
   "cell_type": "code",
   "execution_count": 2,
   "metadata": {},
   "outputs": [],
   "source": [
    "# Dummy dataset with n=10\n",
    "dataset = pd.DataFrame({\"experiment-based\": [86, 87, 91, 97, 98, 99, 97, 94, 89, 92],\n",
    "                        \"reading-based\": [90, 89, 82, 83, 85, 79, 83, 86, 81, 92]})"
   ]
  },
  {
   "cell_type": "code",
   "execution_count": 3,
   "metadata": {},
   "outputs": [
    {
     "data": {
      "text/html": [
       "<div>\n",
       "<style scoped>\n",
       "    .dataframe tbody tr th:only-of-type {\n",
       "        vertical-align: middle;\n",
       "    }\n",
       "\n",
       "    .dataframe tbody tr th {\n",
       "        vertical-align: top;\n",
       "    }\n",
       "\n",
       "    .dataframe thead th {\n",
       "        text-align: right;\n",
       "    }\n",
       "</style>\n",
       "<table border=\"1\" class=\"dataframe\">\n",
       "  <thead>\n",
       "    <tr style=\"text-align: right;\">\n",
       "      <th></th>\n",
       "      <th>experiment-based</th>\n",
       "      <th>reading-based</th>\n",
       "    </tr>\n",
       "  </thead>\n",
       "  <tbody>\n",
       "    <tr>\n",
       "      <th>0</th>\n",
       "      <td>86</td>\n",
       "      <td>90</td>\n",
       "    </tr>\n",
       "    <tr>\n",
       "      <th>1</th>\n",
       "      <td>87</td>\n",
       "      <td>89</td>\n",
       "    </tr>\n",
       "    <tr>\n",
       "      <th>2</th>\n",
       "      <td>91</td>\n",
       "      <td>82</td>\n",
       "    </tr>\n",
       "    <tr>\n",
       "      <th>3</th>\n",
       "      <td>97</td>\n",
       "      <td>83</td>\n",
       "    </tr>\n",
       "    <tr>\n",
       "      <th>4</th>\n",
       "      <td>98</td>\n",
       "      <td>85</td>\n",
       "    </tr>\n",
       "  </tbody>\n",
       "</table>\n",
       "</div>"
      ],
      "text/plain": [
       "   experiment-based  reading-based\n",
       "0                86             90\n",
       "1                87             89\n",
       "2                91             82\n",
       "3                97             83\n",
       "4                98             85"
      ]
     },
     "execution_count": 3,
     "metadata": {},
     "output_type": "execute_result"
    }
   ],
   "source": [
    "dataset.head()"
   ]
  },
  {
   "cell_type": "markdown",
   "metadata": {},
   "source": [
    "### #1: Define Hypothesis"
   ]
  },
  {
   "cell_type": "markdown",
   "metadata": {},
   "source": [
    "μ1 = Experiment-based population mean\n",
    "<br>\n",
    "μ2 = Reading-based population mean\n",
    "<br>\n",
    "H<sub>0</sub>: μ1 - μ2 = 0\n",
    "<br>\n",
    "H<sub>1</sub>: μ1 - μ2 ≠ 0\n",
    "<br>"
   ]
  },
  {
   "cell_type": "markdown",
   "metadata": {},
   "source": [
    "### #2: Find Critical Region"
   ]
  },
  {
   "cell_type": "code",
   "execution_count": 4,
   "metadata": {},
   "outputs": [],
   "source": [
    "# Pre-requisites parameter\n",
    "alpha_level = 0.01\n",
    "df1 = len(dataset['experiment-based']) - 1\n",
    "df2 = len(dataset['reading-based']) - 1\n",
    "df = df1 + df2"
   ]
  },
  {
   "cell_type": "code",
   "execution_count": 5,
   "metadata": {},
   "outputs": [
    {
     "data": {
      "text/plain": [
       "2.878"
      ]
     },
     "execution_count": 5,
     "metadata": {},
     "output_type": "execute_result"
    }
   ],
   "source": [
    "# Locate the t-statistic critical region, two-tail\n",
    "t_stats = round(t.ppf(1-(alpha_level/2), df), 3)\n",
    "t_stats"
   ]
  },
  {
   "cell_type": "code",
   "execution_count": 6,
   "metadata": {},
   "outputs": [
    {
     "data": {
      "image/png": "[encoded data removed]",
      "text/plain": [
       "<Figure size 1800x576 with 1 Axes>"
      ]
     },
     "metadata": {
      "needs_background": "light"
     },
     "output_type": "display_data"
    }
   ],
   "source": [
    "# Locate the rejection region\n",
    "t_distribution = t.rvs(df, size=1000)\n",
    "\n",
    "plt.figure(figsize=(25,8))\n",
    "\n",
    "plt.hist(t_distribution)\n",
    "plt.axvline(t_stats, c='red', label='rejection region')\n",
    "plt.axvline(t_stats-(2*t_stats), c='red')\n",
    "\n",
    "plt.text(t_stats+0.05, y=100, s=\"H0 rejected if t-value falls on the \\nright side of this line\", fontsize=16)\n",
    "plt.text(t_stats-(2*t_stats)-1, y=100, s=\"H0 rejected if t-value falls on the \\nleft side of this line\", fontsize=16)\n",
    "\n",
    "plt.title(\"T-Distribution under null hypothesis, df=18\", fontsize=16)\n",
    "plt.legend()\n",
    "plt.show()"
   ]
  },
  {
   "cell_type": "markdown",
   "metadata": {},
   "source": [
    "### #3: Calculate t-value"
   ]
  },
  {
   "cell_type": "code",
   "execution_count": 7,
   "metadata": {},
   "outputs": [],
   "source": [
    "# Calculate t_value\n",
    "t_value, p_value = ttest_ind(dataset['experiment-based'], dataset['reading-based'])"
   ]
  },
  {
   "cell_type": "code",
   "execution_count": 8,
   "metadata": {},
   "outputs": [
    {
     "data": {
      "text/plain": [
       "(4.0, 0.00083982931740856)"
      ]
     },
     "execution_count": 8,
     "metadata": {},
     "output_type": "execute_result"
    }
   ],
   "source": [
    "t_value, p_value"
   ]
  },
  {
   "cell_type": "markdown",
   "metadata": {},
   "source": [
    "### #4: Locate t-value"
   ]
  },
  {
   "cell_type": "code",
   "execution_count": 12,
   "metadata": {},
   "outputs": [
    {
     "data": {
      "image/png": "[encoded data removed]",
      "text/plain": [
       "<Figure size 1800x576 with 1 Axes>"
      ]
     },
     "metadata": {
      "needs_background": "light"
     },
     "output_type": "display_data"
    }
   ],
   "source": [
    "# Locate the rejection region\n",
    "t_distribution = t.rvs(df, size=1000)\n",
    "\n",
    "plt.figure(figsize=(25,8))\n",
    "\n",
    "plt.hist(t_distribution)\n",
    "plt.axvline(t_stats, c='red', label='rejection region')\n",
    "plt.axvline(t_stats-(2*t_stats), c='red')\n",
    "plt.axvline(t_value, c='green', label='t-value')\n",
    "\n",
    "plt.text(t_stats+0.05, y=100, s=\"H0 rejected if t-value \\nfalls on the right side of this line\", fontsize=16)\n",
    "plt.text(t_stats-(2*t_stats)-1, y=100, s=\"H0 rejected if t-value \\nfalls on the left side of this line\", fontsize=16)\n",
    "plt.text(t_value+0.05, y=50, s=\"Here lies our t-value \\nfor this experiment\", fontsize=16)\n",
    "\n",
    "plt.title(\"T-Distribution under null hypothesis, df=18\", fontsize=16)\n",
    "plt.legend(loc='upper left', fontsize=16)\n",
    "plt.show()"
   ]
  },
  {
   "cell_type": "markdown",
   "metadata": {},
   "source": [
    "### #5: Calculate Effect Size (Cohen's d)"
   ]
  },
  {
   "cell_type": "code",
   "execution_count": 22,
   "metadata": {},
   "outputs": [
    {
     "data": {
      "text/plain": [
       "1.79"
      ]
     },
     "execution_count": 22,
     "metadata": {},
     "output_type": "execute_result"
    }
   ],
   "source": [
    "def sum_of_squares(arr):\n",
    "    mean_arr = np.mean(arr)\n",
    "    ss = np.sum([np.square(x - mean_arr) for x in arr])\n",
    "    \n",
    "    return ss\n",
    "\n",
    "# Sample mean of Experiment-based & Reading-based learning\n",
    "m1 = dataset['experiment-based'].mean()\n",
    "m2 = dataset['reading-based'].mean()\n",
    "\n",
    "ss1 = sum_of_squares(dataset['experiment-based'])\n",
    "ss2 = sum_of_squares(dataset['reading-based'])\n",
    "\n",
    "# Cohen's d formula for t-test ind_sample\n",
    "estimated_mean_difference = m1 - m2\n",
    "estimated_standard_deviation = np.sqrt((ss1 + ss2)/(df1 + df2))\n",
    "\n",
    "d = estimated_mean_difference / estimated_standard_deviation\n",
    "round(d, 2)"
   ]
  },
  {
   "cell_type": "markdown",
   "metadata": {},
   "source": [
    "### #6: Conclude Result"
   ]
  },
  {
   "cell_type": "markdown",
   "metadata": {},
   "source": [
    "The students who study using **experiment-based learning** had higher high school grades **(M=93, SD=4.71)** than the students who study using **reading-based learning (M=85, SD=4.22)**. The **mean difference was significant, t(18)=4.00, p<0.01, d=1.79**."
   ]
  }
 ],
 "metadata": {
  "environment": {
   "name": "common-cpu.m46",
   "type": "gcloud",
   "uri": "gcr.io/deeplearning-platform-release/base-cpu:m46"
  },
  "kernelspec": {
   "display_name": "Python 3",
   "language": "python",
   "name": "python3"
  },
  "language_info": {
   "codemirror_mode": {
    "name": "ipython",
    "version": 3
   },
   "file_extension": ".py",
   "mimetype": "text/x-python",
   "name": "python",
   "nbconvert_exporter": "python",
   "pygments_lexer": "ipython3",
   "version": "3.7.8"
  }
 },
 "nbformat": 4,
 "nbformat_minor": 4
}
